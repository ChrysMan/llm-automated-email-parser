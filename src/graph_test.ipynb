{
 "cells": [
  {
   "cell_type": "code",
   "execution_count": null,
   "id": "f0671cba",
   "metadata": {
    "vscode": {
     "languageId": "plaintext"
    }
   },
   "outputs": [],
   "source": [
    "import json, os, sys\n",
    "import networkx as nx\n",
    "import matplotlib.pyplot as plt\n",
    "from typing import List\n",
    "#from utils.logging_config import LOGGER\n",
    "#from utils.graph_utils import extract_msg_file, append_file, chunk_emails, clean_data, split_email_thread\n",
    "#from chains.split_emails import SPLIT_EMAILS_CHAIN "
   ]
  },
  {
   "cell_type": "code",
   "execution_count": null,
   "id": "bb4318f5",
   "metadata": {
    "vscode": {
     "languageId": "plaintext"
    }
   },
   "outputs": [],
   "source": [
    "with open('DATA_TUC-KRITI/123456/123456.json', 'r') as file:\n",
    "    email_list1 = json.load(file)\n",
    "\n",
    "with open('src/230009_COMDOCS.json', 'r') as file:\n",
    "    email_list2 = json.load(file)\n",
    "\n",
    "with open('src/230009_BN.json', 'r') as file:\n",
    "    email_list3 = json.load(file)"
   ]
  },
  {
   "cell_type": "code",
   "execution_count": null,
   "id": "193a3932",
   "metadata": {
    "vscode": {
     "languageId": "plaintext"
    }
   },
   "outputs": [],
   "source": [
    "def add_to_graph(graph: nx.DiGraph, email_data: List[str], filename: str) -> nx.DiGraph:\n",
    "    \"\"\"\n",
    "    Add the email data to the graph.\n",
    "    \"\"\"\n",
    "    try:\n",
    "        filename = filename.split('_')[1].split('.')[0]\n",
    "        previous_key = None\n",
    "        start = 1\n",
    "\n",
    "        for n, email in enumerate(email_data):\n",
    "            for node_key, data in graph.nodes(data=True):\n",
    "                if data['email_node'] == email:\n",
    "                    previous_key = node_key\n",
    "                    start = n\n",
    "\n",
    "        for n, email in enumerate(email_data[start:], start=start):\n",
    "            if previous_key is None: \n",
    "                ''' Adding new email thread without duplicates '''\n",
    "                pr_key = n\n",
    "            else: \n",
    "                pr_key = int(previous_key.split(\"_\")[0])\n",
    "            key = f\"{pr_key+1}_{filename}\"\n",
    "            graph.add_node(key, email_node=email)\n",
    "            if n>1:\n",
    "                graph.add_edge(previous_key, key)\n",
    "            previous_key = key\n",
    "    except Exception as e:\n",
    "        print(f\"Error adding to graph: {e}: from file: {filename}: {email}\")\n",
    "    return graph\n"
   ]
  },
  {
   "cell_type": "code",
   "execution_count": null,
   "id": "8c47f312",
   "metadata": {
    "vscode": {
     "languageId": "plaintext"
    }
   },
   "outputs": [],
   "source": [
    "graph = nx.DiGraph()\n",
    "graph = add_to_graph(graph, email_list1, \"123456_PREALERT.msg\")\n",
    "graph = add_to_graph(graph, email_list2, \"230009_COMDOCS.json\")"
   ]
  },
  {
   "cell_type": "code",
   "execution_count": null,
   "id": "fe067e1c",
   "metadata": {
    "vscode": {
     "languageId": "plaintext"
    }
   },
   "outputs": [],
   "source": [
    "graph = add_to_graph(graph, email_list3, \"230009_BN.json\")\n"
   ]
  },
  {
   "cell_type": "code",
   "execution_count": null,
   "id": "b6bdb7c4",
   "metadata": {
    "vscode": {
     "languageId": "plaintext"
    }
   },
   "outputs": [],
   "source": [
    "plt.figure(figsize=(12, 10))\n",
    "pos = nx.kamada_kawai_layout(graph)\n",
    "node_options = {\"node_color\": \"black\", \"node_size\": 10}\n",
    "edge_options = {\"width\": 1, \"alpha\": 0.5, \"edge_color\": \"black\", \"arrowsize\": 5, \"connectionstyle\": 'arc3,rad=0.2'}\n",
    "label_options = {\"font_size\": 5, \"font_color\": \"blue\", \"verticalalignment\": \"top\", \"horizontalalignment\": \"right\"}\n",
    "nx.draw_networkx_nodes(graph, pos, **node_options)\n",
    "nx.draw_networkx_edges(graph, pos, **edge_options)\n",
    "nx.draw_networkx_labels(graph, pos, **label_options)\n",
    "plt.show()"
   ]
  }
 ],
 "metadata": {
  "language_info": {
   "name": "python"
  }
 },
 "nbformat": 4,
 "nbformat_minor": 5
}
